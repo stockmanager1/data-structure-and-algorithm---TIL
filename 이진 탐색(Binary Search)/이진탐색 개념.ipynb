{
  "nbformat": 4,
  "nbformat_minor": 0,
  "metadata": {
    "colab": {
      "name": "이진탐색.ipynb",
      "provenance": [],
      "collapsed_sections": []
    },
    "kernelspec": {
      "name": "python3",
      "display_name": "Python 3"
    },
    "language_info": {
      "name": "python"
    }
  },
  "cells": [
    {
      "cell_type": "markdown",
      "source": [
        "##이진 탐색(중간값에 따라 배열을 지우는 것)"
      ],
      "metadata": {
        "id": "X2Qw7xgWYHCA"
      }
    },
    {
      "cell_type": "markdown",
      "source": [
        "순차 탐색: 리스트 안에 있는 특정한 데이터를 찾기 위해 앞에서부터 데이터를 하나씩 확인하는 방법.\n",
        "\n",
        "이진 탐색: 정렬되어 있는 리스트에서 탐색 범위를 절반씩 좁혀가며 데이터를 탐색하는 방법\n",
        "\n",
        "-**시작점, 끝점, 중간점**을 이용해서 탐색 범위를 설정한다."
      ],
      "metadata": {
        "id": "Gu4V2PxoXPFz"
      }
    },
    {
      "cell_type": "markdown",
      "source": [
        "예제1) \n",
        "\n",
        "**0 2 4 6 8 10 12 14 16 18**\n",
        "\n",
        "의 카드 배열이 있다고 하자.\n",
        "\n",
        "이때 우리는 4가 존재하는지 아닌지 알고 싶다."
      ],
      "metadata": {
        "id": "vMNKOuqaZKZU"
      }
    },
    {
      "cell_type": "markdown",
      "source": [
        "이때 우리는 시작점, 끝점, 중간점을 지정해야 한다.\n",
        "\n",
        "여기서는 0이 0번째 인덱스로 시작점, 8이 4번째 인덱스로 중간점(만일 짝수개라 중간값이 2개면 앞에 있는 인덱스가 중간값), 18이 9번쨰 인덱스라고 한다. \n",
        "\n",
        "아때 우리가 구하고자 하는 4는 중간값 8보다 작기때문에 8부터 18까지를 탐색할 필요가 없다.\n",
        "\n",
        "따라서 우리는 배열을 **0 2 4 6**으로 줄일 수 있다.\n",
        "\n",
        "여기서 다시 이진 탐색을 실시하면 0은 시작값, 2는 중간값, 6은 끝값이다.\n",
        "\n",
        "그럼 이때 4는 중간값 2보다 크니까 우리는 **4 6**으로 배열을 줄일 수 있다.\n",
        "\n",
        "이런식으로 찾은 수를 중간값에 따라 배열을 지우는 것이 이진탐색 알고리즘이다."
      ],
      "metadata": {
        "id": "pgMTQ9qIZf8L"
      }
    },
    {
      "cell_type": "markdown",
      "source": [
        "단계마다 탐색 범위를 2로 나누는 것이 동일하다. 즉 연산 횟수는  logN에 비례한다.\n",
        "\n",
        "즉 예를 들어 초기 데이터가 32일때, 이상적으로 1단계를 거치면, 16개 가량의 데이터만 남는다.\n",
        "\n",
        "2단계는 8, 3단계는 4\n",
        "\n",
        "즉 이진탐색은 탐색범위를 절반씩 줄이며, 시간복잡도는 0을 보장한다."
      ],
      "metadata": {
        "id": "nOsBchpF_e7H"
      }
    },
    {
      "cell_type": "markdown",
      "source": [
        "###이진탐색 소스코드 (재귀적 구현)"
      ],
      "metadata": {
        "id": "0-fHMs6GAfBH"
      }
    },
    {
      "cell_type": "code",
      "source": [
        "#배열, 찾고자 하는 값, 시작점, 끝점을 각각 의미\n",
        "def binary_search(array,target,start,end):\n",
        " #시작점이 끝점보다 크다면 당연히 값은 애초에 존재하지 않는다. \n",
        "  if start > end:\n",
        "    return None\n",
        " #중간값을 구해야지   \n",
        "  mid = (start+end) // 2\n",
        "#만약 중간값이 값이라면 바로 리턴\n",
        "  if array[mid] == target:\n",
        "    return mid\n",
        "#중간값이 찾고자 하는 값보다 작은 경우, 왼쪽확인. 따라서 중간값보다 1작은 값까지 탐색해야 한다.\n",
        "  elif array[mid] > target:\n",
        "    return binary_search(array, target,start,mid-1)\n",
        "#중간값이 찾고자 하는 값보다 큰 경우, 오른쪽확인. 따라서 중간값보다 1큰 값까지 탐색해야 한다.\n",
        "  else:\n",
        "    return binary_search(array,target,start,mid+1,end)\n",
        "#n(원소의 갯수)와 target(찾고자 하는 값)을 입력 받기\n",
        "n,target = list(map(int,input().split()))\n",
        "#전체 원소 입력 받기\n",
        "array = list(map(int,input().split()))\n",
        "#이진 탐색 수행 결과 출력\n",
        "result = binary_search(array,target,0,n-1)\n",
        "if result == None:\n",
        "  print(\"원소가 존재하지 않는다.\")\n",
        "else:\n",
        "#인덱스의 순서가 0,1,2이기 때문에 순서를 정확히 구하기 위해서 +1\n",
        "  print(result + 1)"
      ],
      "metadata": {
        "id": "54HUtzF0WFGP"
      },
      "execution_count": null,
      "outputs": []
    },
    {
      "cell_type": "markdown",
      "source": [
        "###이진탐색 소스코드 (반복문 구현)"
      ],
      "metadata": {
        "id": "to1AhLl8EiHi"
      }
    },
    {
      "cell_type": "code",
      "source": [
        "#배열, 찾고자 하는 값, 시작점, 끝점을 각각 의미\n",
        "def binary_search(array,target,start,end):\n",
        " #시작점이 끝점보다 크다면 당연히 값은 애초에 존재하지 않는다. \n",
        "  while start <= end:\n",
        " #중간값을 구해야지   \n",
        "    mid = (start+end) // 2\n",
        "#만약 중간값이 값이라면 바로 리턴\n",
        "  if array[mid] == target:\n",
        "    return mid\n",
        "#중간값이 찾고자 하는 값보다 작은 경우, 왼쪽확인. 따라서 중간값보다 1작은 값까지 탐색해야 한다.\n",
        "  elif array[mid] > target:\n",
        "    end = mid-1\n",
        "#중간값이 찾고자 하는 값보다 큰 경우, 오른쪽확인. 따라서 중간값보다 1큰 값까지 탐색해야 한다.\n",
        "  else:\n",
        "    start = mid + 1\n",
        "  return None\n",
        "#n(원소의 갯수)와 target(찾고자 하는 값)을 입력 받기\n",
        "n,target = list(map(int,input().split()))\n",
        "#전체 원소 입력 받기\n",
        "array = list(map(int,input().split()))\n",
        "#이진 탐색 수행 결과 출력\n",
        "result = binary_search(array,target,0,n-1)\n",
        "if result == None:\n",
        "  print(\"원소가 존재하지 않는다.\")\n",
        "else:\n",
        "#인덱스의 순서가 0,1,2이기 때문에 순서를 정확히 구하기 위해서 +1\n",
        "  print(result + 1)"
      ],
      "metadata": {
        "id": "xpK7kYVVEkqU"
      },
      "execution_count": null,
      "outputs": []
    },
    {
      "cell_type": "markdown",
      "source": [
        "#파이썬 이진 탐색 라이브러리\n",
        "\n",
        "bisect_left(a,x) : 정렬을 유지하면서, 배열 a에 x를 삽입할 가장 왼쪽 인덱스를 반환\n",
        "\n",
        "bisect_right(a,x) : 정렬을 유지하면서, 배열 a에 x를 삽입할 가장 오른쪽 인덱스를 반환\n",
        "\n"
      ],
      "metadata": {
        "id": "Eq-os0nfFjYS"
      }
    },
    {
      "cell_type": "markdown",
      "source": [
        "**1,2,4,4,8**의 배열이 있다고 하면 \n",
        "x=4라고 하자. 그럼 인덱스 2가 가장 왼쪽 인덱스\n",
        "\n",
        "오른쪽은 8이 가장 오른쪽 인덱스"
      ],
      "metadata": {
        "id": "-3RgISwEGjGJ"
      }
    },
    {
      "cell_type": "code",
      "source": [
        "from bisect import bisect_left,bisect_right"
      ],
      "metadata": {
        "id": "RgAfAli-F2vj"
      },
      "execution_count": null,
      "outputs": []
    },
    {
      "cell_type": "code",
      "source": [
        "a = [1,2,4,4,8]\n",
        "\n",
        "x = 4\n",
        "\n",
        "print(bisect_left(a,x))\n",
        "print(bisect_right(a,x))"
      ],
      "metadata": {
        "colab": {
          "base_uri": "https://localhost:8080/"
        },
        "id": "Rh9LR_ayF9JB",
        "outputId": "d83b2f51-1267-4a3d-cdbc-6b5b8d9fc2f1"
      },
      "execution_count": null,
      "outputs": [
        {
          "output_type": "stream",
          "name": "stdout",
          "text": [
            "2\n",
            "4\n"
          ]
        }
      ]
    },
    {
      "cell_type": "markdown",
      "source": [
        "###파이썬 이진 탐색 라이브러리를 이용한 데이터 개수 구하기"
      ],
      "metadata": {
        "id": "CGwDRkfKI_-p"
      }
    },
    {
      "cell_type": "code",
      "source": [
        "from bisect import bisect_left,bisect_right\n",
        "\n",
        "#해당 값에 포함이 된 데이터의 갯수를 구하기 위해 빼기를 해준다.\n",
        "def count_by_range(a,left_value,right_value):\n",
        "  right_index = bisect_right(a,right_value)\n",
        "  left_index = bisect_left(a,left_value)\n",
        "  return right_index - left_index\n",
        "\n",
        "#배열 선언\n",
        "a = [1,2,3,3,3,4,4,8,9]\n",
        "\n",
        "#깂이 4인 데이터의 갯수 출력\n",
        "print(count_by_range(a,4,4))\n",
        "#값이 [-1,3] 범위에 속하는 데이터 개수 출력\n",
        "print(count_by_range(a,-1,3))"
      ],
      "metadata": {
        "colab": {
          "base_uri": "https://localhost:8080/"
        },
        "id": "WPavgCzYIJw3",
        "outputId": "d7cc39ea-35fd-4464-a036-e2da17f1740e"
      },
      "execution_count": null,
      "outputs": [
        {
          "output_type": "stream",
          "name": "stdout",
          "text": [
            "2\n",
            "5\n"
          ]
        }
      ]
    },
    {
      "cell_type": "markdown",
      "source": [
        "###파라메트릭 서치\n",
        "\n",
        "최적화 문제를 결정 문제로 바꾸어 해결하는 기법입니다.\n",
        "\n",
        "일반적으로 이진탐색을 사용해서 해결할 수 있다."
      ],
      "metadata": {
        "id": "eZrHvhAbQr5Q"
      }
    },
    {
      "cell_type": "markdown",
      "source": [
        "즉 현재 이 높이로 자르면 조건을 만족할 수 있는가?를 확인한 뒤에 조건의 만족여부에 따라서 탐색 범위를 좁혀서 해결할 수 있습니다."
      ],
      "metadata": {
        "id": "7U2GlMrUT6qL"
      }
    },
    {
      "cell_type": "code",
      "source": [
        ""
      ],
      "metadata": {
        "id": "7-KtirwbUjTW"
      },
      "execution_count": null,
      "outputs": []
    }
  ]
}