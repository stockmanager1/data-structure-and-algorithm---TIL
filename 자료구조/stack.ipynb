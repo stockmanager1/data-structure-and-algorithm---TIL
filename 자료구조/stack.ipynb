{
  "nbformat": 4,
  "nbformat_minor": 0,
  "metadata": {
    "colab": {
      "provenance": [],
      "collapsed_sections": []
    },
    "kernelspec": {
      "name": "python3",
      "display_name": "Python 3"
    },
    "language_info": {
      "name": "python"
    }
  },
  "cells": [
    {
      "cell_type": "markdown",
      "source": [
        "#stack"
      ],
      "metadata": {
        "id": "FfL_8wTh2P9j"
      }
    },
    {
      "cell_type": "markdown",
      "source": [
        "삽입 push, append(리스트 연산)\n",
        "\n",
        "삭제 pop, pop(리스트 연산)\n",
        "\n",
        "\n",
        "\n"
      ],
      "metadata": {
        "id": "8xzx8lyk2TH7"
      }
    },
    {
      "cell_type": "code",
      "source": [
        "class stack:\n",
        "  def __init__(self):\n",
        "    self.items = []   #데이터 저장을 위한 리스트 준비, 객체를 생성하는 함수\n",
        "  def push(self,val):\n",
        "    self.items.append(val)\n",
        "  def pop(self):\n",
        "    try:\n",
        "        return self.items.pop()\n",
        "    except IndexError:      #pop할 아이템이 없다면 indexerror발생\n",
        "      print(\"stack is empty\")\n",
        "  def top(self):\n",
        "    try:\n",
        "        return self.items[-1]\n",
        "    except IndexError:\n",
        "      print(\"stack is empty\")\n",
        "  def __len__(self):\n",
        "    return len(self.items)\n",
        "  "
      ],
      "metadata": {
        "id": "Tg9VcUlJ2Pli"
      },
      "execution_count": 23,
      "outputs": []
    },
    {
      "cell_type": "code",
      "source": [
        "s = stack() #---> 클래스 생성"
      ],
      "metadata": {
        "id": "z2pGQmJ03OoA"
      },
      "execution_count": 24,
      "outputs": []
    },
    {
      "cell_type": "code",
      "source": [
        "s.push(10) #s라는 스택 객체에 10을 푸시해줌. 바로 self.items라는 리스트에 푸시됨"
      ],
      "metadata": {
        "id": "__fgqhmk31dL"
      },
      "execution_count": 25,
      "outputs": []
    },
    {
      "cell_type": "code",
      "source": [
        "s.push(2) #s라는 스택 객체에 2을 푸시해줌. 바로 self.items라는 리스트에 푸시됨"
      ],
      "metadata": {
        "id": "rHXOm_uY4Ohz"
      },
      "execution_count": 26,
      "outputs": []
    },
    {
      "cell_type": "code",
      "source": [
        "#맨위에 있는 값\n",
        "print(s.pop())"
      ],
      "metadata": {
        "colab": {
          "base_uri": "https://localhost:8080/"
        },
        "id": "a6ZQ7hTu4X7p",
        "outputId": "11e34d34-b9d7-4d52-d077-e1be52e9dacb"
      },
      "execution_count": 27,
      "outputs": [
        {
          "output_type": "stream",
          "name": "stdout",
          "text": [
            "2\n"
          ]
        }
      ]
    },
    {
      "cell_type": "code",
      "source": [
        "#2r가 pop으로 지워졌으니까 그 다음 가장 위에 있는 5가 출력됨\n",
        "print(s.top())"
      ],
      "metadata": {
        "colab": {
          "base_uri": "https://localhost:8080/"
        },
        "id": "eyS3qDtF4kFo",
        "outputId": "18dda8d9-ca38-4530-9383-07752fabd1d8"
      },
      "execution_count": 28,
      "outputs": [
        {
          "output_type": "stream",
          "name": "stdout",
          "text": [
            "10\n"
          ]
        }
      ]
    },
    {
      "cell_type": "code",
      "source": [
        "#10만 존재. 따라서 1개\n",
        "print(len(s))"
      ],
      "metadata": {
        "colab": {
          "base_uri": "https://localhost:8080/"
        },
        "id": "bLu-rKwC5TSr",
        "outputId": "9994bcb0-fd88-4ecc-b9f7-5d31975aa611"
      },
      "execution_count": 29,
      "outputs": [
        {
          "output_type": "stream",
          "name": "stdout",
          "text": [
            "1\n"
          ]
        }
      ]
    },
    {
      "cell_type": "code",
      "source": [
        "#push, pop, top, len 모두 시간복잡도O(1)인 자료구조다."
      ],
      "metadata": {
        "id": "_Ch6aZSa51x2"
      },
      "execution_count": null,
      "outputs": []
    }
  ]
}