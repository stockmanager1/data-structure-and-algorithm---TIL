{
  "nbformat": 4,
  "nbformat_minor": 0,
  "metadata": {
    "colab": {
      "name": " 순차적 자료구조: 배열과리스트.ipynb",
      "provenance": [],
      "collapsed_sections": []
    },
    "kernelspec": {
      "name": "python3",
      "display_name": "Python 3"
    },
    "language_info": {
      "name": "python"
    }
  },
  "cells": [
    {
      "cell_type": "markdown",
      "source": [
        "#배열 vs 리스트\n",
        "\n",
        "가장 기본적인, 순차적인 자료 구조"
      ],
      "metadata": {
        "id": "n7zGUhcon5ZE"
      }
    },
    {
      "cell_type": "markdown",
      "source": [
        "##c언어\n",
        "\n"
      ],
      "metadata": {
        "id": "0EjugLeboAO9"
      }
    },
    {
      "cell_type": "code",
      "source": [
        "#int A[4] = {2,4,0,5}\n",
        "#그럼 우리는 각 요소의 '주소'만 알고 있다면 언제든지 ok.\n",
        "#만약 A[2] = A[2] + 1은\n",
        "#각 상수 시간 복잡도를 가지는 연산이다 O(1)\n",
        "#A[2]의 주소를 구하기 위해서는\n",
        "#A[0] + (2*4byte)를 해서 구한다. 이때 2는 앞에 존재하는 2,4가 2개라서 2임. 4바이트는 정수를 의미한다.\n"
      ],
      "metadata": {
        "id": "1G5kIEKDn7cX"
      },
      "execution_count": null,
      "outputs": []
    },
    {
      "cell_type": "markdown",
      "source": [
        "##파이썬"
      ],
      "metadata": {
        "id": "jZKVrEThqB5c"
      }
    },
    {
      "cell_type": "code",
      "source": [
        "#python은 리스트가 존재한다.\n",
        "A = [2,4,0,5]\n",
        "#이건 A[0]의 값이 2라는 의미가 아니다.\n",
        "#본래 파이썬은 값을 객체로 보관하기 때문에 객체가 저장된 주소를 불러오는거지 값을 불러오는 개념이 아니다.\n",
        "#만약 A[2] = A[2] + 1은 \n",
        "#A[2] ----> 1로 가는게 아니라 새로운 객체 1이 어딘가에 생성되어서 가저오는것\n",
        "#이때 객체 0은 사라지는게 아니라 어딘가에 존재하고 있다.\n",
        "A,append(6)\n",
        "#이때 A[4]는 어디선가 생성된 객체 6을 가르키기만 한 것."
      ],
      "metadata": {
        "id": "HSe2jbtCqCoM"
      },
      "execution_count": null,
      "outputs": []
    },
    {
      "cell_type": "markdown",
      "source": [
        "##정리\n",
        "\n",
        "정리하자면 c언어는 읽기 쓰기만 제공하고, python은 다양한 연산을 제공한다. c언어는 값을 가지지만 python은 객체로 불러온다."
      ],
      "metadata": {
        "id": "8v5pR5cmreUX"
      }
    },
    {
      "cell_type": "markdown",
      "source": [
        "#리스트의 용량 조절(DYNAMIC ARRAY)"
      ],
      "metadata": {
        "id": "KVJZA85LrtUn"
      }
    },
    {
      "cell_type": "markdown",
      "source": [
        "##python"
      ],
      "metadata": {
        "id": "4fE01wk2r9Jq"
      }
    },
    {
      "cell_type": "code",
      "source": [
        "import sys\n",
        "\n",
        "A = []\n",
        "\n",
        "print(sys.get size of (A))\n",
        "#------> 28 byte\n",
        "\n",
        "A.append(1)\n",
        "\n",
        "print(sys.get size of (A))\n",
        "#------> 43 byte\n",
        "\n",
        "#바이트가 자동으로 늘어났다."
      ],
      "metadata": {
        "id": "6bMWbjOysBVf"
      },
      "execution_count": null,
      "outputs": []
    },
    {
      "cell_type": "markdown",
      "source": [
        "##C언어"
      ],
      "metadata": {
        "id": "XzOAib1VslCB"
      }
    },
    {
      "cell_type": "code",
      "source": [
        "#int A[4] = {2,4,0,5}\n",
        "\n",
        "#A[4] = 10 2,4,0,5까지 배열이 존재하니까 에러가 난다.\n",
        "\n",
        "#B = (int*)(malloc)(6 * 4)\n",
        "\n",
        "#A = B\n",
        "\n",
        "#c언어는 배열을 정의하고, 직접 조절한다."
      ],
      "metadata": {
        "id": "ByNmfG64sl5Q"
      },
      "execution_count": 10,
      "outputs": []
    },
    {
      "cell_type": "code",
      "source": [
        ""
      ],
      "metadata": {
        "id": "f7_l6ox0uK_m"
      },
      "execution_count": null,
      "outputs": []
    }
  ]
}